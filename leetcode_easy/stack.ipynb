{
 "cells": [
  {
   "cell_type": "markdown",
   "id": "d79fa68d",
   "metadata": {},
   "source": [
    "# Valid Parenteses"
   ]
  },
  {
   "cell_type": "markdown",
   "id": "14dbaaad",
   "metadata": {},
   "source": []
  },
  {
   "cell_type": "code",
   "execution_count": null,
   "id": "793c6915",
   "metadata": {},
   "outputs": [
    {
     "data": {
      "text/plain": [
       "True"
      ]
     },
     "execution_count": 4,
     "metadata": {},
     "output_type": "execute_result"
    }
   ],
   "source": [
    "class Solution:\n",
    "    def is_valid(self, s: str) -> bool:\n",
    "        stack = []\n",
    "        closed_to_open = {\")\": \"(\", \"]\": \"[\", \"}\": \"{\"}\n",
    "        for i in s:\n",
    "            if i in closed_to_open:\n",
    "                if stack and stack[-1] == closed_to_open[i]:\n",
    "                    stack.pop()\n",
    "                else:\n",
    "                    return False\n",
    "            else:\n",
    "                stack.append(i)\n",
    "        return True if not stack else False\n",
    "\n",
    "\n",
    "sol = Solution()\n",
    "sol.is_valid(\"()\")"
   ]
  }
 ],
 "metadata": {
  "kernelspec": {
   "display_name": "algorithmic-problems-6VJktC1R-py3.12",
   "language": "python",
   "name": "python3"
  },
  "language_info": {
   "codemirror_mode": {
    "name": "ipython",
    "version": 3
   },
   "file_extension": ".py",
   "mimetype": "text/x-python",
   "name": "python",
   "nbconvert_exporter": "python",
   "pygments_lexer": "ipython3",
   "version": "3.12.9"
  }
 },
 "nbformat": 4,
 "nbformat_minor": 5
}
